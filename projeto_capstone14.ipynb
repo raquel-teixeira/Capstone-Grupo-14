{
  "cells": [
    {
      "cell_type": "raw",
      "metadata": {},
      "source": [
        "---\n",
        "title: \"Projeto CAPSTONE GRUPO 14\"\n",
        "author: \"Hugo Silva e Raquel Teixeira\"\n",
        "affiliation: \n",
        "    - Escola Nacional de Saúde Pública\n",
        "date: today\n",
        "date-format: long\n",
        "lang: pt \n",
        "format:\n",
        "  html:\n",
        "    preview: false\n",
        "    smooth-scroll: true\n",
        "    embed-resources: true\n",
        "    toc: true\n",
        "    toc-location: left\n",
        "    number-sections: true\n",
        "    number-depth: 3\n",
        "    code_download: true\n",
        "    code-copy: true\n",
        "    output-file: projeto_final.html\n",
        "    output-dir: output/documents\n",
        "execute:\n",
        "  warning: false\n",
        "  collapse: true\n",
        "  message: false\n",
        "  eval: true\n",
        "  echo: true\n",
        "title-block-style: default\n",
        "theme: templata_ensp\n",
        "editor: \n",
        "  markdown: \n",
        "    wrap: 72\n",
        "project:\n",
        "  output-dir: output/documents\n",
        "---"
      ],
      "id": "b1d4abd9"
    },
    {
      "cell_type": "markdown",
      "metadata": {},
      "source": [
        "```{markdown}\n",
        "\n",
        "{r child=\"project_presentation.qmd\"}\n",
        "\n",
        "{r child=\"data_manipulation.qmd\"}\n",
        "\n",
        "{r child=\"data_vision.qmd\"}\n",
        "\n",
        "{r child=\"model_estistic.qmd\"}\n",
        "```"
      ],
      "id": "f1dd99d1"
    }
  ],
  "metadata": {
    "kernelspec": {
      "display_name": "Python 3",
      "language": "python",
      "name": "python3"
    }
  },
  "nbformat": 4,
  "nbformat_minor": 5
}